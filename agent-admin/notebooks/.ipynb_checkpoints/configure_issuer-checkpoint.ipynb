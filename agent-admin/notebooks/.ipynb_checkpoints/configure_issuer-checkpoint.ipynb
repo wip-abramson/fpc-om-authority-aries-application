{
 "cells": [
  {
   "cell_type": "markdown",
   "id": "b9c5e248",
   "metadata": {},
   "source": [
    "# Administration Notebook for Your Agent\n",
    "\n",
    "Here you can author a public DID, write schema or credential definitions. So that you can use them in your full stack application.\n",
    "\n",
    "I think there must be a better way for this, but I haven't figured it out yet."
   ]
  },
  {
   "cell_type": "code",
   "execution_count": 10,
   "id": "99cb637b",
   "metadata": {},
   "outputs": [],
   "source": [
    "import requests\n",
    "import json"
   ]
  },
  {
   "cell_type": "code",
   "execution_count": 5,
   "id": "275cc04f",
   "metadata": {},
   "outputs": [
    {
     "name": "stdout",
     "output_type": "stream",
     "text": [
      "0.0.0.0\n",
      "8012\n",
      "\n",
      "Initialising Agent. Webhook URL 0.0.0.0:8012. ADMIN_URL - http://agent:8011\n"
     ]
    }
   ],
   "source": [
    "from aries_cloudcontroller import AriesAgentController\n",
    "\n",
    "WEBHOOK_HOST = \"0.0.0.0\"\n",
    "WEBHOOK_PORT=8012\n",
    "WEBHOOK_BASE=\"\"\n",
    "ADMIN_URL = \"http://agent:8011\"\n",
    "API_KEY = \"myapikey\"\n",
    "\n",
    "print(WEBHOOK_HOST)\n",
    "print(WEBHOOK_PORT)\n",
    "print(WEBHOOK_BASE)\n",
    "\n",
    "print(f\"Initialising Agent. Webhook URL {WEBHOOK_HOST}:{WEBHOOK_PORT}{WEBHOOK_BASE}. ADMIN_URL - {ADMIN_URL}\")\n",
    "\n",
    "agent_controller = AriesAgentController(admin_url=ADMIN_URL, api_key=API_KEY)\n",
    "\n",
    "\n",
    "agent_controller.init_webhook_server(webhook_host=WEBHOOK_HOST, webhook_port=WEBHOOK_PORT)"
   ]
  },
  {
   "cell_type": "code",
   "execution_count": 11,
   "id": "fc224fb8",
   "metadata": {},
   "outputs": [
    {
     "name": "stdout",
     "output_type": "stream",
     "text": [
      "New DID F8ksHhBGRfd24B2prMQSmc\n",
      "F8ksHhBGRfd24B2prMQSmc\n"
     ]
    }
   ],
   "source": [
    "response = await agent_controller.wallet.create_did()\n",
    "\n",
    "did_object = response['result']\n",
    "did = did_object[\"did\"]\n",
    "print(\"New DID\", did)\n",
    "# write new DID to Sovrin Stagingnet\n",
    "\n",
    "url = 'https://selfserve.sovrin.org/nym'\n",
    "\n",
    "payload = {\"network\": \"stagingnet\", \"did\": did_object[\"did\"], \"verkey\": did_object[\"verkey\"], \"paymentaddr\": \"\"}\n",
    "\n",
    "# Adding empty header as parameters are being sent in payload\n",
    "headers = {}\n",
    "\n",
    "r = requests.post(url, data=json.dumps(payload), headers=headers)\n",
    "if r.status_code != 200:\n",
    "    logger.error(\"Unable to write DID to StagingNet\")\n",
    "    raise Exception\n",
    "\n",
    "response = await agent_controller.ledger.get_taa()\n",
    "taa = response['result']['taa_record']\n",
    "taa['mechanism'] = \"service_agreement\"\n",
    "\n",
    "await agent_controller.ledger.accept_taa(taa)\n",
    "\n",
    "await agent_controller.wallet.assign_public_did(did)\n",
    "\n",
    "print(did_object[\"did\"])"
   ]
  },
  {
   "cell_type": "code",
   "execution_count": 12,
   "id": "53a45eb3",
   "metadata": {},
   "outputs": [
    {
     "name": "stdout",
     "output_type": "stream",
     "text": [
      "{'result': {'did': 'F8ksHhBGRfd24B2prMQSmc', 'verkey': '8ho7b7VqN7kLZJd4f6Moyt2TxNE7h6rE1rqJV2W7ka1n', 'posture': 'public'}}\n"
     ]
    }
   ],
   "source": [
    "response = await agent_controller.wallet.get_public_did()\n",
    "print(response)"
   ]
  },
  {
   "cell_type": "markdown",
   "id": "b24cf027",
   "metadata": {},
   "source": [
    "## Author Definitions"
   ]
  },
  {
   "cell_type": "code",
   "execution_count": 15,
   "id": "a0af9bec",
   "metadata": {},
   "outputs": [],
   "source": [
    "data_scientist_schema_id = \"Sgg1wREgfEwbEPCQn9xEuE:2:OM Data Scientist:0.0.1\"\n",
    "data_owner_schema_id = \"Sgg1wREgfEwbEPCQn9xEuE:2:OM Data Owner:0.0.1\""
   ]
  },
  {
   "cell_type": "code",
   "execution_count": 16,
   "id": "13fcaf33",
   "metadata": {},
   "outputs": [
    {
     "name": "stdout",
     "output_type": "stream",
     "text": [
      "Credential Definition F8ksHhBGRfd24B2prMQSmc:3:CL:188831:default for schema Sgg1wREgfEwbEPCQn9xEuE:2:OM Data Scientist:0.0.1\n",
      "Credential Definition F8ksHhBGRfd24B2prMQSmc:3:CL:188831:default for schema Sgg1wREgfEwbEPCQn9xEuE:2:OM Data Scientist:0.0.1\n"
     ]
    }
   ],
   "source": [
    "## Write Cred Def and Schema to ledger\n",
    "response = await agent_controller.definitions.write_cred_def(data_scientist_schema_id)\n",
    "\n",
    "data_scientist_cred_def_id = response[\"credential_definition_id\"]\n",
    "print(f\"Credential Definition {data_scientist_cred_def_id} for schema {data_scientist_schema_id}\")\n"
   ]
  },
  {
   "cell_type": "code",
   "execution_count": 17,
   "id": "411198eb",
   "metadata": {},
   "outputs": [
    {
     "name": "stdout",
     "output_type": "stream",
     "text": [
      "Credential Definition F8ksHhBGRfd24B2prMQSmc:3:CL:188835:default for schema Sgg1wREgfEwbEPCQn9xEuE:2:OM Data Owner:0.0.1\n"
     ]
    }
   ],
   "source": [
    "## Write Cred Def and Schema to ledger\n",
    "response = await agent_controller.definitions.write_cred_def(data_owner_schema_id)\n",
    "\n",
    "data_owner_cred_def_id = response[\"credential_definition_id\"]\n",
    "print(f\"Credential Definition {data_scientist_cred_def_id} for schema {data_owner_schema_id}\")"
   ]
  },
  {
   "cell_type": "markdown",
   "id": "6f303056",
   "metadata": {},
   "source": [
    "## Copy Definitions into Server config file"
   ]
  },
  {
   "cell_type": "code",
   "execution_count": null,
   "id": "a9898681",
   "metadata": {},
   "outputs": [],
   "source": [
    "print(\"data_scientist_cred_def_id : \", data_scientist_cred_def_id)\n",
    "print(\"data_owner_cred_def_id : \", data_owner_cred_def_id)"
   ]
  }
 ],
 "metadata": {
  "kernelspec": {
   "display_name": "Python 3",
   "language": "python",
   "name": "python3"
  },
  "language_info": {
   "codemirror_mode": {
    "name": "ipython",
    "version": 3
   },
   "file_extension": ".py",
   "mimetype": "text/x-python",
   "name": "python",
   "nbconvert_exporter": "python",
   "pygments_lexer": "ipython3",
   "version": "3.7.6"
  }
 },
 "nbformat": 4,
 "nbformat_minor": 5
}
