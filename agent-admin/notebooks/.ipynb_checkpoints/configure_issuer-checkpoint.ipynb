{
 "cells": [
  {
   "cell_type": "markdown",
   "id": "bb796c72",
   "metadata": {},
   "source": [
    "# Administration Notebook for Your Agent\n",
    "\n",
    "Here you can author a public DID, write schema or credential definitions. So that you can use them in your full stack application.\n",
    "\n",
    "I think there must be a better way for this, but I haven't figured it out yet."
   ]
  },
  {
   "cell_type": "code",
   "execution_count": null,
   "id": "0e3c4875",
   "metadata": {},
   "outputs": [],
   "source": [
    "import requests\n",
    "import json\n",
    "import os"
   ]
  },
  {
   "cell_type": "code",
   "execution_count": null,
   "id": "78875374",
   "metadata": {},
   "outputs": [],
   "source": [
    "from aries_cloudcontroller import AriesAgentController\n",
    "\n",
    "api_key = os.getenv(\"ACAPY_ADMIN_API_KEY\")\n",
    "admin_url = os.getenv(\"ADMIN_URL\")\n",
    "\n",
    "print(f\"Initialising a controller with admin api at {admin_url} and an api key of {api_key}\")\n",
    "agent_controller = AriesAgentController(admin_url,api_key)"
   ]
  },
  {
   "cell_type": "code",
   "execution_count": null,
   "id": "99910c89",
   "metadata": {},
   "outputs": [],
   "source": [
    "webhook_port = int(os.getenv(\"WEBHOOK_PORT\"))\n",
    "webhook_host = \"0.0.0.0\"\n",
    "\n",
    "await agent_controller.init_webhook_server(webhook_host, webhook_port)\n",
    "\n",
    "print(f\"Listening for webhooks from agent at http://{webhook_host}:{webhook_port}\")"
   ]
  },
  {
   "cell_type": "code",
   "execution_count": null,
   "id": "7846d57c",
   "metadata": {},
   "outputs": [],
   "source": [
    "response = await agent_controller.wallet.create_did()\n",
    "\n",
    "did_object = response['result']\n",
    "did = did_object[\"did\"]\n",
    "print(\"New DID\", did)\n",
    "# write new DID to Sovrin Stagingnet\n",
    "\n",
    "url = 'https://selfserve.sovrin.org/nym'\n",
    "\n",
    "payload = {\"network\": \"stagingnet\", \"did\": did_object[\"did\"], \"verkey\": did_object[\"verkey\"], \"paymentaddr\": \"\"}\n",
    "\n",
    "# Adding empty header as parameters are being sent in payload\n",
    "headers = {}\n",
    "\n",
    "r = requests.post(url, data=json.dumps(payload), headers=headers)\n",
    "if r.status_code != 200:\n",
    "    logger.error(\"Unable to write DID to StagingNet\")\n",
    "    raise Exception\n",
    "\n",
    "response = await agent_controller.ledger.get_taa()\n",
    "taa = response['result']['taa_record']\n",
    "taa['mechanism'] = \"service_agreement\"\n",
    "\n",
    "await agent_controller.ledger.accept_taa(taa)\n",
    "\n",
    "await agent_controller.wallet.assign_public_did(did)\n",
    "\n",
    "print(did_object[\"did\"])"
   ]
  },
  {
   "cell_type": "code",
   "execution_count": null,
   "id": "5507e35e",
   "metadata": {},
   "outputs": [],
   "source": [
    "response = await agent_controller.wallet.get_public_did()\n",
    "print(response)"
   ]
  },
  {
   "cell_type": "markdown",
   "id": "931e0bf3",
   "metadata": {},
   "source": [
    "## Author Definitions"
   ]
  },
  {
   "cell_type": "code",
   "execution_count": null,
   "id": "ff22a0cf",
   "metadata": {},
   "outputs": [],
   "source": [
    "data_scientist_schema_id = \"Sgg1wREgfEwbEPCQn9xEuE:2:OM Data Scientist:0.0.1\"\n",
    "data_owner_schema_id = \"Sgg1wREgfEwbEPCQn9xEuE:2:OM Data Owner:0.0.1\""
   ]
  },
  {
   "cell_type": "code",
   "execution_count": null,
   "id": "fdca4a6d",
   "metadata": {},
   "outputs": [],
   "source": [
    "## Write Cred Def and Schema to ledger\n",
    "response = await agent_controller.definitions.write_cred_def(data_scientist_schema_id)\n",
    "\n",
    "data_scientist_cred_def_id = response[\"credential_definition_id\"]\n",
    "print(f\"Credential Definition {data_scientist_cred_def_id} for schema {data_scientist_schema_id}\")\n"
   ]
  },
  {
   "cell_type": "code",
   "execution_count": null,
   "id": "c1af7113",
   "metadata": {},
   "outputs": [],
   "source": [
    "## Write Cred Def and Schema to ledger\n",
    "response = await agent_controller.definitions.write_cred_def(data_owner_schema_id)\n",
    "\n",
    "data_owner_cred_def_id = response[\"credential_definition_id\"]\n",
    "print(f\"Credential Definition {data_scientist_cred_def_id} for schema {data_owner_schema_id}\")"
   ]
  },
  {
   "cell_type": "markdown",
   "id": "05191871",
   "metadata": {},
   "source": [
    "## Copy Definitions into Server config file"
   ]
  },
  {
   "cell_type": "code",
   "execution_count": null,
   "id": "ab8cbbfd",
   "metadata": {},
   "outputs": [],
   "source": [
    "print(\"data_scientist_cred_def_id : \", data_scientist_cred_def_id)\n",
    "print(\"data_owner_cred_def_id : \", data_owner_cred_def_id)"
   ]
  }
 ],
 "metadata": {
  "kernelspec": {
   "display_name": "Python 3",
   "language": "python",
   "name": "python3"
  },
  "language_info": {
   "codemirror_mode": {
    "name": "ipython",
    "version": 3
   },
   "file_extension": ".py",
   "mimetype": "text/x-python",
   "name": "python",
   "nbconvert_exporter": "python",
   "pygments_lexer": "ipython3",
   "version": "3.7.6"
  }
 },
 "nbformat": 4,
 "nbformat_minor": 5
}
